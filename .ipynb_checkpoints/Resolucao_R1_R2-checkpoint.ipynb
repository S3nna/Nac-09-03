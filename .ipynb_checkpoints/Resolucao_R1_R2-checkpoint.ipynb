{
 "cells": [
  {
   "cell_type": "markdown",
   "metadata": {
    "id": "BohAFudw1enF"
   },
   "source": [
    "## Resolução da 1º NAC do Semestre\n",
    "\n",
    "**Rúbrica a serem atendidas:**\n",
    "\n",
    "*   R1 - Nota 6\n",
    "*   R2 - Nota 8"
   ]
  },
  {
   "cell_type": "code",
   "execution_count": 2,
   "metadata": {},
   "outputs": [
    {
     "data": {
      "image/png": "[encoded data removed]",
      "text/plain": [
       "<Figure size 432x288 with 1 Axes>"
      ]
     },
     "metadata": {
      "needs_background": "light"
     },
     "output_type": "display_data"
    }
   ],
   "source": [
    "%matplotlib inline\n",
    "# Importando a biblioteca OpenCV\n",
    "import cv2 \n",
    "\n",
    "#import a biblioteca Numpy\n",
    "import numpy as np\n",
    "\n",
    "from matplotlib import pyplot as plt\n",
    "\n",
    "imagem = cv2.imread(\"circulo.png\")\n",
    "image = cv2.cvtColor(imagem, cv2.COLOR_BGR2RGB)\n",
    "\n",
    "plt.imshow(image)\n",
    "plt.show()"
   ]
  },
  {
   "cell_type": "markdown",
   "metadata": {
    "id": "FzWjLWmw47Yr"
   },
   "source": [
    "**R1**\n",
    "\n",
    "Use a imagem circulo.png para implementar um código que:\n",
    "* Segmenta apenas os círculos maiores da imagem, use a técnica que achar melhor. E exibe o resultado. (máx 3 pontos) \n",
    "* Exibe na imagem a área e o centro de massa dos dois círculos segmentados da imagem. O resultado esperado e uma imagem com um marcação no centro indicando o CM e o valor da área; (máx 3 pontos) "
   ]
  },
  {
   "cell_type": "code",
   "execution_count": 51,
   "metadata": {},
   "outputs": [
    {
     "data": {
      "image/png": "[encoded data removed]",
      "text/plain": [
       "<Figure size 432x288 with 1 Axes>"
      ]
     },
     "metadata": {
      "needs_background": "light"
     },
     "output_type": "display_data"
    }
   ],
   "source": [
    "#Segmenta os 2 círculos maiores\n",
    "\n",
    "img = cv2.imread('circulo.png')\n",
    "\n",
    "img_rgb = cv2.cvtColor(img, cv2.COLOR_BGR2RGB)\n",
    "img_hsv = cv2.cvtColor(img, cv2.COLOR_BGR2HSV)\n",
    "\n",
    "\n",
    "# Definição dos valores minimo e max da mascara\n",
    "# o magenta tem h=300 mais ou menos ou 150 para a OpenCV\n",
    "image_lower_hsvRed = np.array([0, 230, 165])  \n",
    "image_upper_hsvRed = np.array([10, 255, 255])\n",
    "\n",
    "image_lower_hsvBlue = np.array([75, 160, 220])  \n",
    "image_upper_hsvBlue = np.array([95, 255, 230])\n",
    "\n",
    "mask_hsvBoth = cv2.bitwise_or(cv2.inRange(img_hsv, image_lower_hsvRed, image_upper_hsvRed), cv2.inRange(img_hsv, image_lower_hsvBlue, image_upper_hsvBlue))\n",
    "\n",
    "\n",
    "\n",
    "contours, _ = cv2.findContours(mask_hsvBoth, cv2.RETR_TREE, cv2.CHAIN_APPROX_SIMPLE) \n",
    "\n",
    "biggestCircles = cv2.cvtColor(mask_hsvBoth, cv2.COLOR_BGR2RGB)\n",
    "\n",
    "\n",
    "\n",
    "   \n",
    "\n",
    "plt.subplot(1, 1, 1)\n",
    "plt.imshow( biggestCircles)\n",
    "\n",
    "\n",
    "plt.show()"
   ]
  },
  {
   "cell_type": "code",
   "execution_count": 37,
   "metadata": {},
   "outputs": [],
   "source": [
    "#Calcula área e o centro de massa\n",
    "\n",
    "#Segmenta os 2 círculos maiores\n",
    "\n",
    "img = cv2.imread('circulo.png')\n",
    "\n",
    "img_rgb = cv2.cvtColor(img, cv2.COLOR_BGR2RGB)\n",
    "img_hsv = cv2.cvtColor(img, cv2.COLOR_BGR2HSV)\n",
    "\n",
    "\n",
    "# Definição dos valores minimo e max da mascara\n",
    "# o magenta tem h=300 mais ou menos ou 150 para a OpenCV\n",
    "image_lower_hsvRed = np.array([0, 230, 165])  \n",
    "image_upper_hsvRed = np.array([10, 255, 255])\n",
    "\n",
    "image_lower_hsvBlue = np.array([75, 160, 220])  \n",
    "image_upper_hsvBlue = np.array([95, 255, 230])\n",
    "\n",
    "mask_hsvBoth = cv2.bitwise_or(cv2.inRange(img_hsv, image_lower_hsvRed, image_upper_hsvRed), cv2.inRange(img_hsv, image_lower_hsvBlue, image_upper_hsvBlue))\n",
    "\n",
    "\n",
    "\n",
    "contours, _ = cv2.findContours(mask_hsvBoth, cv2.RETR_TREE, cv2.CHAIN_APPROX_SIMPLE) \n",
    "\n",
    "for i in contours:\n",
    " \n",
    "    cnt = contours[0]\n",
    "    area = cv2.contourArea(cnt)\n",
    "    print(\" A area do circulo  \", area) \n",
    "    M = cv2.moments(cnt)\n",
    "    cx = int(M['m10']/M['m00'])\n",
    "    cy = int(M['m01']/M['m00'])\n",
    "    print(\"centro de massa na possição: \",cx, cy)\n",
    "    biggestCircles = cv2.cvtColor(mask_hsvBoth, cv2.COLOR_BGR2RGB)\n",
    "    contornos_img = biggestCircles.copy() # Cópia da máscara para ser desenhada \"por cima\"\n",
    "    ## para desenhar a cruz vamos passar a cor e o tamanho em pixel\n",
    "    size = 20\n",
    "    color = (128,128,0)\n",
    "    cv2.line(contornos_img,(cx - size,cy),(cx + size,cy),color,5)\n",
    "    cv2.line(contornos_img,(cx,cy - size),(cx, cy + size),color,5)\n",
    "# Para escrever vamos definir uma fonte \n",
    "    font = cv2.FONT_HERSHEY_SIMPLEX\n",
    "    text = cy , cx\n",
    "    origem = (0,50)\n",
    "    cv2.putText(contornos_img, str(text), origem, font,1,(200,50,0),2,cv2.LINE_AA)\n",
    "   \n",
    "\n",
    "plt.subplot(1, 1, 1)\n",
    "plt.imshow(contornos_img);\n",
    "\n",
    "#plt.imshow( biggestCircles)\n",
    "\n",
    "\n",
    "plt.show()"
   ]
  },
  {
   "cell_type": "markdown",
   "metadata": {},
   "source": [
    "**R2**\n",
    "\n",
    "* Traça uma reta entre os dois centros dos círculos; (máx 0,5 pontos) \n",
    "* Calcula o ângulo de inclinação da reta em relação ao plano horizontal, inclinação em graus. O resultado esperado é uma imagem com  uma reta entre centros e valor do ângulo exibido na tela; (máx 1,5 pontos)"
   ]
  },
  {
   "cell_type": "code",
   "execution_count": 15,
   "metadata": {},
   "outputs": [],
   "source": [
    "# Traça reta"
   ]
  },
  {
   "cell_type": "code",
   "execution_count": null,
   "metadata": {},
   "outputs": [],
   "source": [
    "# Calcula angulo"
   ]
  }
 ],
 "metadata": {
  "colab": {
   "collapsed_sections": [],
   "name": "Copy of FiltrosConvolução.ipynb",
   "provenance": []
  },
  "kernelspec": {
   "display_name": "Python 3 (ipykernel)",
   "language": "python",
   "name": "python3"
  },
  "language_info": {
   "codemirror_mode": {
    "name": "ipython",
    "version": 3
   },
   "file_extension": ".py",
   "mimetype": "text/x-python",
   "name": "python",
   "nbconvert_exporter": "python",
   "pygments_lexer": "ipython3",
   "version": "3.10.2"
  }
 },
 "nbformat": 4,
 "nbformat_minor": 1
}
